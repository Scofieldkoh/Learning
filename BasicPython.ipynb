{
  "nbformat": 4,
  "nbformat_minor": 0,
  "metadata": {
    "colab": {
      "provenance": [],
      "collapsed_sections": [],
      "authorship_tag": "ABX9TyMzof93/E7KAmW9+g3gR+Co",
      "include_colab_link": true
    },
    "kernelspec": {
      "name": "python3",
      "display_name": "Python 3"
    },
    "language_info": {
      "name": "python"
    }
  },
  "cells": [
    {
      "cell_type": "markdown",
      "metadata": {
        "id": "view-in-github",
        "colab_type": "text"
      },
      "source": [
        "<a href=\"https://colab.research.google.com/github/Scofieldkoh/Learning/blob/main/BasicPython.ipynb\" target=\"_parent\"><img src=\"https://colab.research.google.com/assets/colab-badge.svg\" alt=\"Open In Colab\"/></a>"
      ]
    },
    {
      "cell_type": "code",
      "source": [
        "#Basic information about python"
      ],
      "metadata": {
        "id": "fem2apgxBFLp"
      },
      "execution_count": null,
      "outputs": []
    },
    {
      "cell_type": "code",
      "source": [
        "#Variable\n",
        "age = 32\n",
        "surname = 'Koh'\n",
        "s = 'abcdefghij'"
      ],
      "metadata": {
        "id": "H0oCqEjg8LX1"
      },
      "execution_count": 44,
      "outputs": []
    },
    {
      "cell_type": "code",
      "source": [
        "#Method to print sentence with variable\n",
        "print('My age is {} and my surname is {}'.format(age, surname))\n",
        "print ('My age is {one} and my surname is {two}'.format(one=age,two=surname)) #preferred\n"
      ],
      "metadata": {
        "colab": {
          "base_uri": "https://localhost:8080/"
        },
        "id": "hmOHY-cU8xmZ",
        "outputId": "35173940-4631-41cd-ad43-6da21f98d276"
      },
      "execution_count": 45,
      "outputs": [
        {
          "output_type": "stream",
          "name": "stdout",
          "text": [
            "My age is 32 and my surname is Koh\n",
            "My age is 32 and my surname is Koh\n"
          ]
        }
      ]
    },
    {
      "cell_type": "code",
      "source": [
        "#Method to grab certain part of the string\n",
        "print(s[0]) #note: start from 0\n",
        "print(s[0:]) #note: from 0 until ...\n",
        "print(s[:3]) #note: from .. until 3 (not including 3)"
      ],
      "metadata": {
        "colab": {
          "base_uri": "https://localhost:8080/"
        },
        "id": "rkmwd-L_-yOS",
        "outputId": "16ac111d-c94f-4ff3-88cd-6f3d3687e7ec"
      },
      "execution_count": 50,
      "outputs": [
        {
          "output_type": "stream",
          "name": "stdout",
          "text": [
            "a\n",
            "abcdefghij\n",
            "abc\n"
          ]
        }
      ]
    },
    {
      "cell_type": "code",
      "source": [],
      "metadata": {
        "id": "p96oucsy_Pks"
      },
      "execution_count": null,
      "outputs": []
    }
  ]
}